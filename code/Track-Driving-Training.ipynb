{
 "cells": [
  {
   "cell_type": "code",
   "execution_count": 1,
   "metadata": {},
   "outputs": [
    {
     "name": "stderr",
     "output_type": "stream",
     "text": [
      "Using TensorFlow backend.\n"
     ]
    },
    {
     "name": "stdout",
     "output_type": "stream",
     "text": [
      "done\n"
     ]
    }
   ],
   "source": [
    "import sklearn\n",
    "import csv\n",
    "import cv2\n",
    "import os\n",
    "import numpy as np\n",
    "from keras.models import Sequential\n",
    "from keras.layers import Flatten, Dense, Lambda, Cropping2D\n",
    "from keras.layers.convolutional import Convolution2D\n",
    "from keras.layers.pooling import MaxPooling2D\n",
    "from sklearn.model_selection import train_test_split\n",
    "from os import getcwd\n",
    "import matplotlib.pyplot as plt\n",
    "from keras.callbacks import ModelCheckpoint, Callback\n",
    "from sklearn.utils import shuffle\n"
   ]
  },
  {
   "cell_type": "code",
   "execution_count": 2,
   "metadata": {},
   "outputs": [
    {
     "name": "stdout",
     "output_type": "stream",
     "text": [
      "Done\n"
     ]
    }
   ],
   "source": [
    "#this function will crop and resize the images to save memory and make training faster\n",
    "#reduce the noise and use cv2.cvtColor(new_img, cv2.COLOR_BGR2YUV) as the Nvidia doc suggests,\n",
    "def preprocess_image(img):\n",
    "    #avoid input size error in keras model\n",
    "    new_img = img[50:140,:,:]\n",
    "    new_img = cv2.GaussianBlur(new_img, (3,3), 0)\n",
    "    new_img = cv2.resize(new_img,(200, 66), interpolation = cv2.INTER_AREA)\n",
    "    new_img = cv2.cvtColor(new_img, cv2.COLOR_BGR2YUV)\n",
    "    return new_img\n"
   ]
  },
  {
   "cell_type": "code",
   "execution_count": 3,
   "metadata": {},
   "outputs": [
    {
     "name": "stdout",
     "output_type": "stream",
     "text": [
      "done\n"
     ]
    }
   ],
   "source": [
    "# here we are creating extra training data\n",
    "def generate_training_data(image_paths, angles, batch_size=128):\n",
    "    image_paths, angles = shuffle(image_paths, angles)\n",
    "    X,y = ([],[])\n",
    "    while True:       \n",
    "        for i in range(len(angles)):\n",
    "            img = cv2.imread(image_paths[i])\n",
    "            angle = angles[i]\n",
    "            img = preprocess_image(img)\n",
    "            X.append(img)\n",
    "            y.append(angle)\n",
    "            if len(X) == batch_size:\n",
    "                yield (np.array(X), np.array(y))\n",
    "                X, y = ([],[])\n",
    "                image_paths, angles = shuffle(image_paths, angles)\n",
    "            # flip horizontally and invert steer angle, if magnitude is > 0.33 to avoid adding \n",
    "            # too much data without meaningful change\n",
    "            if abs(angle) > 0.33:\n",
    "                img = cv2.flip(img, 1)\n",
    "                angle *= -1\n",
    "                X.append(img)\n",
    "                y.append(angle)\n",
    "                if len(X) == batch_size:\n",
    "                    yield (np.array(X), np.array(y))\n",
    "                    X, y = ([],[])\n",
    "                    image_paths, angles = shuffle(image_paths, angles)\n"
   ]
  },
  {
   "cell_type": "code",
   "execution_count": 5,
   "metadata": {},
   "outputs": [
    {
     "name": "stdout",
     "output_type": "stream",
     "text": [
      "Size of data: (3831,) (3831,)\n",
      "Size of data: (3831,) (3831,)\n"
     ]
    }
   ],
   "source": [
    "#Here we are opening the driving_log file provided and reading the data\n",
    "lines=[]\n",
    "image_paths = []\n",
    "angles = []\n",
    "img_path_prepend = ['', getcwd() + './data/']\n",
    "pathnw =\"C:/Users/Abdullah's/CarND-Behavioral-Cloning-P3-master/driving_log.csv\"\n",
    "with open(pathnw) as csvfile:\n",
    "    driving_data = list(csv.reader(csvfile, skipinitialspace=True, delimiter=',', quoting=csv.QUOTE_NONE))\n",
    "    for row in driving_data[1:]:\n",
    "        # skip it if ~0 speed - not representative of driving behavior\n",
    "        if float(row[6]) < 0.1 :\n",
    "            continue\n",
    "        # get center image path and angle\n",
    "        image_paths.append(img_path_prepend[1] + row[0])\n",
    "        angles.append(float(row[3]))\n",
    "        # get left image path and angle\n",
    "        image_paths.append(img_path_prepend[1] + row[1])\n",
    "        #add a correction factor of .25 to the angle\n",
    "        angles.append(float(row[3])+0.25)\n",
    "        # get left image path and angle\n",
    "        image_paths.append(img_path_prepend[1] + row[2])\n",
    "        # add a correction factor of -.25 to the angle\n",
    "        angles.append(float(row[3])-0.25)\n",
    "\n",
    "image_paths = np.array(image_paths)\n",
    "angles = np.array(angles)\n",
    "print('Size of data:', image_paths.shape, angles.shape)\n",
    "print('Size of data:', image_paths.shape, angles.shape)"
   ]
  },
  {
   "cell_type": "code",
   "execution_count": 6,
   "metadata": {},
   "outputs": [
    {
     "data": {
      "image/png": "[encoded data removed]",
      "text/plain": [
       "<matplotlib.figure.Figure at 0x1b912db9278>"
      ]
     },
     "metadata": {},
     "output_type": "display_data"
    },
    {
     "name": "stdout",
     "output_type": "stream",
     "text": [
      "Size of data after removing unwanted values: (927,) (927,)\n"
     ]
    }
   ],
   "source": [
    "# this is basically clean up tp the data that we have so that we dont overwhelm our machine while training (cause biases)\n",
    "num_bins = 23\n",
    "avg_samples_per_bin = len(angles)/num_bins\n",
    "hist, bins = np.histogram(angles, num_bins)\n",
    "width = 0.7 * (bins[1] - bins[0])\n",
    "center = (bins[:-1] + bins[1:]) / 2\n",
    "plt.bar(center, hist, align='center', width=width)\n",
    "plt.plot((np.min(angles), np.max(angles)), (avg_samples_per_bin, avg_samples_per_bin), 'k-')\n",
    "#set keep probability for data from steering angles with more than half the average samples per angle\n",
    "keep_probs = []\n",
    "target = avg_samples_per_bin * .5\n",
    "for i in range(num_bins):\n",
    "    if hist[i] < target:\n",
    "        keep_probs.append(1.)\n",
    "    else:\n",
    "        keep_probs.append(1./(hist[i]/target))\n",
    "remove_list = []\n",
    "for i in range(len(angles)):\n",
    "    for j in range(num_bins):\n",
    "        if angles[i] > bins[j] and angles[i] <= bins[j+1]:\n",
    "            # delete from X and y with probability 1 - keep_probs[j]\n",
    "            if np.random.rand() > keep_probs[j]:\n",
    "                remove_list.append(i)\n",
    "image_paths = np.delete(image_paths, remove_list, axis=0)\n",
    "angles = np.delete(angles, remove_list)\n",
    "\n",
    "# print histogram to show the new distribution of steering angles\n",
    "hist, bins = np.histogram(angles, num_bins)\n",
    "plt.bar(center, hist, align='center', width=width)\n",
    "plt.plot((np.min(angles), np.max(angles)), (avg_samples_per_bin, avg_samples_per_bin), 'k-')\n",
    "plt.show()\n",
    "\n",
    "print('Size of data after removing unwanted values:', image_paths.shape, angles.shape)"
   ]
  },
  {
   "cell_type": "code",
   "execution_count": 7,
   "metadata": {},
   "outputs": [
    {
     "name": "stdout",
     "output_type": "stream",
     "text": [
      "Epoch 1/5\n",
      "154s - loss: 0.0331 - val_loss: 0.0242\n",
      "Epoch 2/5\n",
      "44s - loss: 0.0205 - val_loss: 0.0187\n",
      "Epoch 3/5\n",
      "93s - loss: 0.0158 - val_loss: 0.0129\n",
      "Epoch 4/5\n",
      "95s - loss: 0.0106 - val_loss: 0.0073\n",
      "Epoch 5/5\n",
      "53s - loss: 0.0067 - val_loss: 0.0050\n",
      "done\n"
     ]
    }
   ],
   "source": [
    "# this is the Nvidia architecture modle \n",
    "model = Sequential()\n",
    "model.add(Lambda(lambda x: (x / 127.5) - 1.0, input_shape=(66,200,3)))\n",
    "##Nvidia Model\n",
    "model.add(Convolution2D(24,5,5,subsample=(2,2),activation=\"relu\"))\n",
    "model.add(Convolution2D(36,5,5,subsample=(2,2),activation=\"relu\"))\n",
    "model.add(Convolution2D(48,5,5,subsample=(2,2),activation=\"relu\"))\n",
    "model.add(Convolution2D(64,3,3,activation=\"relu\"))\n",
    "model.add(Convolution2D(64,3,3,activation=\"relu\"))\n",
    "model.add(Flatten())\n",
    "model.add(Dense(100))\n",
    "model.add(Dense(50))\n",
    "model.add(Dense(10))\n",
    "model.add(Dense(1))\n",
    "\n",
    "model.compile(loss='mse', optimizer='adam')\n",
    "\n",
    "train_gen = generate_training_data(image_paths, angles, batch_size=64)\n",
    "val_gen = generate_training_data(image_paths, angles, batch_size=64)\n",
    "\n",
    "history = model.fit_generator(train_gen, validation_data=val_gen, nb_val_samples=2560, samples_per_epoch=23040, \n",
    "                                  nb_epoch=5, verbose=2, callbacks=[checkpoint])\n",
    "\n",
    "model.save('model.h5')\n",
    "print(\"done\")"
   ]
  }
 ],
 "metadata": {
  "kernelspec": {
   "display_name": "Python 3",
   "language": "python",
   "name": "python3"
  },
  "language_info": {
   "codemirror_mode": {
    "name": "ipython",
    "version": 3
   },
   "file_extension": ".py",
   "mimetype": "text/x-python",
   "name": "python",
   "nbconvert_exporter": "python",
   "pygments_lexer": "ipython3",
   "version": "3.5.2"
  },
  "widgets": {
   "state": {},
   "version": "1.1.2"
  }
 },
 "nbformat": 4,
 "nbformat_minor": 2
}
